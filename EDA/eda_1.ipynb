{
 "cells": [
  {
   "cell_type": "code",
   "execution_count": null,
   "id": "548d6e17",
   "metadata": {},
   "outputs": [],
   "source": [
    "import pandas as pd\n",
    "import numpy as np \n",
    "import matplotlib.pyplot as plt\n",
    "import seaborn as sns\n",
    "from sklearn.impute import SimpleImputer\n",
    "import datetime\n",
    "from sklearn.compose import ColumnTransformer\n",
    "from sklearn.preprocessing import OneHotEncoder\n",
    "from sklearn import metrics\n",
    "from sklearn.model_selection import train_test_split\n",
    "from sklearn.model_selection import StratifiedKFold\n",
    "import xgboost as xgb"
   ]
  },
  {
   "cell_type": "code",
   "execution_count": null,
   "id": "ae7f36ef",
   "metadata": {},
   "outputs": [],
   "source": [
    "import pandas as pd\n",
    "\n",
    "train_data = pd.read_csv(\"ml_case_training_data.csv\", encoding='utf-8')\n",
    "train_hist = pd.read_csv(\"ml_case_training_hist_data.csv\", encoding='cp949')\n",
    "train_out = pd.read_csv(\"ml_case_training_output.csv\", encoding='utf-8')"
   ]
  },
  {
   "cell_type": "code",
   "execution_count": null,
   "id": "cbf80a46",
   "metadata": {},
   "outputs": [],
   "source": [
    "nan_count=((train_data.isna().sum()/train_data.shape[0])*100).sort_values(ascending=False)\n",
    "nan_count=nan_count[nan_count>0]\n",
    "train_data.drop(nan_count.index[:7],axis=1,inplace=True)"
   ]
  },
  {
   "cell_type": "code",
   "execution_count": null,
   "id": "55694522",
   "metadata": {},
   "outputs": [],
   "source": [
    "train_data['channel_sales']=train_data['channel_sales'].fillna('new category')\n",
    "train_data[nan_count.index[8:]].nunique()\n",
    "train_data[nan_count.index[8:]].isna().sum()"
   ]
  },
  {
   "cell_type": "code",
   "execution_count": null,
   "id": "913e8386",
   "metadata": {},
   "outputs": [],
   "source": [
    "train_data[['date_modif_prod','date_renewal','date_end']]=train_data[['date_modif_prod','date_renewal',\n",
    "                                                            'date_end']].fillna(method='bfill')"
   ]
  },
  {
   "cell_type": "code",
   "execution_count": null,
   "id": "f1343d8f",
   "metadata": {},
   "outputs": [],
   "source": [
    "for col in [x for x in nan_count.index[8:] if x not in ['date_modif_prod','date_renewal','date_end','origin_up',\n",
    "                                                        'forecast_price_energy_p1','forecast_price_energy_p2']]:\n",
    "    train_data[col] = np.round(pd.to_numeric(train_data[col], errors='coerce')).astype('Int64')"
   ]
  },
  {
   "cell_type": "code",
   "execution_count": null,
   "id": "f6a8f184",
   "metadata": {},
   "outputs": [],
   "source": [
    "origin_imp = SimpleImputer(missing_values=np.nan, strategy='most_frequent')\n",
    "train_data[['origin_up']]=origin_imp.fit_transform(train_data[['origin_up']])"
   ]
  },
  {
   "cell_type": "code",
   "execution_count": null,
   "id": "0a13966b",
   "metadata": {},
   "outputs": [],
   "source": [
    "imp_freq = SimpleImputer(missing_values=np.nan, strategy='most_frequent')\n",
    "train_data[[x for x in nan_count.index[8:] if x not in ['date_modif_prod',\n",
    "                                                        'date_renewal','origin_up','date_end']]]=imp_freq.fit_transform(\n",
    "    train_data[[x for x in nan_count.index[8:] if x not in ['date_modif_prod',\n",
    "                                                        'date_renewal','origin_up','date_end']]])"
   ]
  },
  {
   "cell_type": "code",
   "execution_count": null,
   "id": "5927da76",
   "metadata": {},
   "outputs": [],
   "source": [
    "train=pd.merge(train_data, train_out, on=['id'])"
   ]
  },
  {
   "cell_type": "code",
   "execution_count": null,
   "id": "16852301",
   "metadata": {},
   "outputs": [],
   "source": [
    "sales = train[[\"channel_sales\",\n",
    "               \"churn\", \"id\"]].groupby([\n",
    "    \"channel_sales\",\"churn\"])[\"id\"].count().unstack(level=1).sort_values(by=[1],ascending=False)[:5]\n",
    "sales_percentage = (sales.div(sales.sum(axis=1), axis=0)*100)\n",
    "sales.plot(kind=\"bar\",\n",
    " figsize=(18,10),\n",
    " stacked=True,\n",
    "rot=0,\n",
    " title= \"Top 5 sales channel with highest Churn Rate\")\n",
    "# Rename legend\n",
    "plt.legend([\"Retention\", \"Churn\"], loc=\"upper right\")\n",
    "# Labels\n",
    "plt.ylabel(\"No. of Consumers\")\n",
    "plt.xlabel(\"Channel_sales\")\n",
    "plt.show()"
   ]
  },
  {
   "cell_type": "code",
   "execution_count": null,
   "id": "032ff75b",
   "metadata": {},
   "outputs": [],
   "source": [
    "cons_12m = train[[\"has_gas\",\n",
    "               \"churn\", \"id\"]].groupby([\n",
    "    \"has_gas\",\"churn\"])[\"id\"].count().unstack(level=1).sort_values(by=[1],ascending=False)\n",
    "cons_12m_percentage = (cons_12m.div(cons_12m.sum(axis=1), axis=0)*100)\n",
    "cons_12m.plot(kind=\"bar\",\n",
    " figsize=(10,10),\n",
    " stacked=True,\n",
    "rot=0,\n",
    " title= \"Churn Rate - Has Gas Connection VS No Gas Connection\")\n",
    "# Rename legend\n",
    "plt.legend([\"Retention\", \"Churn\"], loc=\"upper right\")\n",
    "# Labels\n",
    "plt.ylabel(\"No. of Consumers\")\n",
    "plt.xlabel(\"has_gas\")\n",
    "plt.show()"
   ]
  },
  {
   "cell_type": "code",
   "execution_count": null,
   "id": "f56e3708",
   "metadata": {},
   "outputs": [],
   "source": [
    "cons_12m = train[[\"nb_prod_act\",\n",
    "               \"churn\", \"id\"]].groupby([\n",
    "    \"nb_prod_act\",\"churn\"])[\"id\"].count().unstack(level=1).sort_values(by=[1],ascending=False)[:5]\n",
    "cons_12m_percentage = (cons_12m.div(cons_12m.sum(axis=1), axis=0)*100)\n",
    "cons_12m.plot(kind=\"bar\",\n",
    " figsize=(18,10),\n",
    " stacked=True,\n",
    "rot=0,\n",
    " title= \"Churn Rate - No.of active connections\")\n",
    "# Rename legend\n",
    "plt.legend([\"Retention\", \"Churn\"], loc=\"upper right\")\n",
    "# Labels\n",
    "plt.ylabel(\"No. of Consumers\")\n",
    "plt.xlabel(\"active connections\")\n",
    "plt.show()"
   ]
  },
  {
   "cell_type": "code",
   "execution_count": null,
   "id": "d60a43e1",
   "metadata": {},
   "outputs": [],
   "source": [
    "cons_12m = train[[\"num_years_antig\",\n",
    "               \"churn\", \"id\"]].groupby([\n",
    "    \"num_years_antig\",\"churn\"])[\"id\"].count().unstack(level=1).sort_values(by=[1],ascending=False)[:10]\n",
    "cons_12m_percentage = (cons_12m.div(cons_12m.sum(axis=1), axis=0)*100)\n",
    "cons_12m.plot(kind=\"bar\",\n",
    " figsize=(18,10),\n",
    " stacked=True,\n",
    "rot=0,\n",
    " title= \"Churn Rate - Antiquity of consumer\")\n",
    "# Rename legend\n",
    "plt.legend([\"Retention\", \"Churn\"], loc=\"upper right\")\n",
    "# Labels\n",
    "plt.ylabel(\"No. of Consumers\")\n",
    "plt.xlabel(\"Antiquity\")\n",
    "plt.show()"
   ]
  },
  {
   "cell_type": "code",
   "execution_count": null,
   "id": "72eb94bb",
   "metadata": {},
   "outputs": [],
   "source": [
    "cons_12m = train[[\"origin_up\",\n",
    "               \"churn\", \"id\"]].groupby([\n",
    "    \"origin_up\",\"churn\"])[\"id\"].count().unstack(level=1).sort_values(by=[1],ascending=False)\n",
    "cons_12m_percentage = (cons_12m.div(cons_12m.sum(axis=1), axis=0)*100)\n",
    "cons_12m.plot(kind=\"bar\",\n",
    " figsize=(18,10),\n",
    " stacked=True,\n",
    "rot=0,\n",
    " title= \"Churn Rate - code of the electricity campaign the customer first subscribed to\")\n",
    "# Rename legend\n",
    "plt.legend([\"Retention\", \"Churn\"], loc=\"upper right\")\n",
    "# Labels\n",
    "plt.ylabel(\"No. of Consumers\")\n",
    "plt.xlabel(\"origin_up\")\n",
    "plt.show()"
   ]
  },
  {
   "cell_type": "code",
   "execution_count": null,
   "id": "0931f65c",
   "metadata": {},
   "outputs": [],
   "source": [
    "train_data.hist(bins=50, figsize=(20,15))\n",
    "plt.tight_layout(pad=0.4)\n",
    "plt.show()"
   ]
  },
  {
   "cell_type": "code",
   "execution_count": null,
   "id": "17b4ea75",
   "metadata": {},
   "outputs": [],
   "source": [
    "train_hist.hist(bins=50, figsize=(20,15))\n",
    "plt.tight_layout(pad=0.4)\n",
    "plt.show()"
   ]
  },
  {
   "cell_type": "code",
   "execution_count": null,
   "id": "9af55c2a",
   "metadata": {},
   "outputs": [],
   "source": [
    "for col in ['date_activ','date_end','date_modif_prod','date_renewal']:\n",
    "    train[col]=pd.to_datetime(train_data[col])"
   ]
  },
  {
   "cell_type": "code",
   "execution_count": null,
   "id": "d6abd3cd",
   "metadata": {},
   "outputs": [],
   "source": [
    "train['contract_tenure']=train['date_end']-train['date_activ']\n",
    "train['contract_tenure']=train['contract_tenure'].apply(lambda x:x.days)"
   ]
  },
  {
   "cell_type": "code",
   "execution_count": null,
   "id": "3095821e",
   "metadata": {},
   "outputs": [],
   "source": [
    "train['contract_tenure_year']=train['contract_tenure'].apply(lambda x:int(np.round(x/365)))"
   ]
  },
  {
   "cell_type": "code",
   "execution_count": null,
   "id": "56b23268",
   "metadata": {},
   "outputs": [],
   "source": [
    "tenure = train[[\"contract_tenure_year\", \"churn\", \"id\"]].groupby([\"contract_tenure_year\",\n",
    "                                                                 \"churn\"])[\"id\"].count().unstack(level=1)\n",
    "tenure_percentage = (tenure.div(tenure.sum(axis=1), axis=0)*100)\n",
    "tenure.plot(kind=\"bar\",\n",
    " figsize=(18,10),\n",
    " stacked=True,\n",
    "rot=0,\n",
    " title= \"Tenure VS Churn Rate\")\n",
    "# Rename legend\n",
    "plt.legend([\"Retention\", \"Churn\"], loc=\"upper right\")\n",
    "# Labels\n",
    "plt.ylabel(\"No. of Consumers\")\n",
    "plt.xlabel(\"No. of years\")\n",
    "plt.show()"
   ]
  },
  {
   "cell_type": "code",
   "execution_count": null,
   "id": "a398706a",
   "metadata": {},
   "outputs": [],
   "source": [
    "train['bill_dev']=(train['cons_12m']/12)-train['cons_last_month']"
   ]
  },
  {
   "cell_type": "code",
   "execution_count": null,
   "id": "032a9fef",
   "metadata": {},
   "outputs": [],
   "source": [
    "def handleInf(x):\n",
    "    if x==float('-inf') or x==float('inf'):\n",
    "        return 0"
   ]
  },
  {
   "cell_type": "code",
   "execution_count": null,
   "id": "829ae62e",
   "metadata": {},
   "outputs": [],
   "source": [
    "train['cons_pattern']=train['forecast_cons_12m']/train['cons_12m']\n",
    "train.cons_pattern=train.cons_pattern.apply(handleInf)"
   ]
  },
  {
   "cell_type": "code",
   "execution_count": null,
   "id": "f3ccfb59",
   "metadata": {},
   "outputs": [],
   "source": [
    "imp_mean = SimpleImputer(missing_values=np.nan, strategy='mean')\n",
    "train_hist[['price_p1_var','price_p2_var','price_p3_var','price_p1_fix','price_p2_fix','price_p3_fix']]=imp_freq.fit_transform(\n",
    "    train_hist[['price_p1_var','price_p2_var','price_p3_var','price_p1_fix','price_p2_fix','price_p3_fix']])"
   ]
  },
  {
   "cell_type": "code",
   "execution_count": null,
   "id": "b438a4da",
   "metadata": {},
   "outputs": [],
   "source": [
    "train_hist['price_p1']=train_hist['price_p1_var']+train_hist['price_p1_fix']\n",
    "train_hist['price_p2']=train_hist['price_p2_var']+train_hist['price_p2_fix']\n",
    "train_hist['price_p3']=train_hist['price_p3_var']+train_hist['price_p3_fix']\n",
    "train_hist['pp12']=train_hist['price_p2']-train_hist['price_p1']\n",
    "train_hist['pp23']=train_hist['price_p3']-train_hist['price_p2']\n",
    "train_hist['pp13']=train_hist['price_p3']-train_hist['price_p1']"
   ]
  },
  {
   "cell_type": "code",
   "execution_count": null,
   "id": "953c7647",
   "metadata": {},
   "outputs": [],
   "source": [
    "train_hist.drop(['price_date','price_p1_var','price_p2_var','price_p3_var',\n",
    "                'price_p1_fix','price_p2_fix','price_p3_fix'],inplace=True,axis=1)"
   ]
  },
  {
   "cell_type": "code",
   "execution_count": null,
   "id": "bd1c6884",
   "metadata": {},
   "outputs": [],
   "source": [
    "train=pd.merge(train_hist, train, on=['id'])"
   ]
  },
  {
   "cell_type": "code",
   "execution_count": null,
   "id": "6e41b22c",
   "metadata": {},
   "outputs": [],
   "source": [
    "train.fillna(0,inplace=True)\n",
    "X = train.drop(labels = [\"id\",'date_activ','date_end','date_modif_prod','date_renewal',\"churn\"],axis = 1)"
   ]
  },
  {
   "cell_type": "code",
   "execution_count": null,
   "id": "7098758e",
   "metadata": {},
   "outputs": [],
   "source": [
    "train_2 = train.drop(labels = [\"id\",'date_activ','date_end','date_modif_prod','date_renewal'],axis = 1)"
   ]
  },
  {
   "cell_type": "code",
   "execution_count": null,
   "id": "396b44b3",
   "metadata": {},
   "outputs": [],
   "source": [
    "train_2['has_gas']=train_2['has_gas'].apply(lambda x:0 if x=='f' else 1)"
   ]
  },
  {
   "cell_type": "code",
   "execution_count": null,
   "id": "a894e961",
   "metadata": {},
   "outputs": [],
   "source": [
    "ct = ColumnTransformer(transformers=[('encoder', OneHotEncoder(), [6,24])], remainder='passthrough')\n",
    "X = np.array(ct.fit_transform(X))"
   ]
  },
  {
   "cell_type": "code",
   "execution_count": null,
   "id": "2ffeb619",
   "metadata": {},
   "outputs": [],
   "source": [
    "train_2.head()"
   ]
  },
  {
   "cell_type": "code",
   "execution_count": null,
   "id": "81ee458c",
   "metadata": {},
   "outputs": [],
   "source": [
    "train_2.shape"
   ]
  },
  {
   "cell_type": "code",
   "execution_count": null,
   "id": "cde3327d",
   "metadata": {},
   "outputs": [],
   "source": [
    "columns_to_encode = ['channel_sales', 'origin_up']  # 원하는 칼럼명으로 수정\n",
    "train_2 = pd.get_dummies(train_2, columns=columns_to_encode, drop_first=False)\n",
    "train_2.to_csv('eda_v1.csv', index=False)"
   ]
  },
  {
   "cell_type": "code",
   "execution_count": null,
   "id": "dee52788",
   "metadata": {},
   "outputs": [],
   "source": []
  }
 ],
 "metadata": {
  "kernelspec": {
   "display_name": "u_project2",
   "language": "python",
   "name": "python3"
  },
  "language_info": {
   "codemirror_mode": {
    "name": "ipython",
    "version": 3
   },
   "file_extension": ".py",
   "mimetype": "text/x-python",
   "name": "python",
   "nbconvert_exporter": "python",
   "pygments_lexer": "ipython3",
   "version": "3.11.13"
  }
 },
 "nbformat": 4,
 "nbformat_minor": 5
}
